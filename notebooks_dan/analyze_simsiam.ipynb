{
 "cells": [
  {
   "cell_type": "code",
   "execution_count": 1,
   "id": "ff78c983-df55-4c3b-8129-a78c280bdf77",
   "metadata": {},
   "outputs": [
    {
     "name": "stderr",
     "output_type": "stream",
     "text": [
      "/home/dqian/miniconda3/envs/NYU-DL/lib/python3.10/site-packages/torchvision/io/image.py:13: UserWarning: Failed to load image Python extension: '/home/dqian/miniconda3/envs/NYU-DL/lib/python3.10/site-packages/torchvision/image.so: undefined symbol: _ZN5torch3jit17parseSchemaOrNameERKNSt7__cxx1112basic_stringIcSt11char_traitsIcESaIcEEE'If you don't plan on using image functionality from `torchvision.io`, you can ignore this warning. Otherwise, there might be something wrong with your environment. Did you have `libjpeg` or `libpng` installed before building `torchvision` from source?\n",
      "  warn(\n"
     ]
    }
   ],
   "source": [
    "import torch\n",
    "import matplotlib.pyplot as plt\n",
    "from torchmetrics import JaccardIndex\n"
   ]
  },
  {
   "cell_type": "code",
   "execution_count": 3,
   "id": "a2c4b0df-b580-41c2-ae12-36396b3905df",
   "metadata": {},
   "outputs": [],
   "source": [
    "# Load our own modules\n",
    "import sys\n",
    "\n",
    "sys.path.append(\"../src\")\n",
    "\n",
    "from data import ValidationDataset"
   ]
  },
  {
   "cell_type": "code",
   "execution_count": 8,
   "id": "d7146c6b-fc12-47af-b0a6-795366432d05",
   "metadata": {},
   "outputs": [],
   "source": [
    "dataset = ValidationDataset(\"../Dataset_Student\")\n",
    "val_dataloader = torch.utils.data.DataLoader(dataset, batch_size=5, num_workers=2)\n"
   ]
  },
  {
   "cell_type": "code",
   "execution_count": 9,
   "id": "dd139ee7-d721-4298-82af-74081dedfee4",
   "metadata": {},
   "outputs": [],
   "source": [
    "model = torch.load(\"../simsiamgsta.pth\", map_location=torch.device('cpu'))"
   ]
  },
  {
   "cell_type": "code",
   "execution_count": 29,
   "id": "c50cf32f-a2d6-497d-8ed3-8f49e32988e2",
   "metadata": {},
   "outputs": [
    {
     "name": "stdout",
     "output_type": "stream",
     "text": [
      "torch.Size([1, 3, 11, 256, 256])\n",
      "torch.Size([1, 3, 11, 256, 256])\n",
      "torch.Size([1, 3, 11, 256, 256])\n",
      "torch.Size([1, 3, 11, 256, 256])\n"
     ]
    }
   ],
   "source": [
    "# Look at SSL trained model\n",
    "import random\n",
    "sim = torch.nn.CosineSimilarity()\n",
    "\n",
    "\n",
    "(x1, y1), (x2, y2) = random.choices(dataset, k=2)\n",
    "\n",
    "x1 = x1.transpose(0, 1).unsqueeze(0)\n",
    "x2 = x2.transpose(0, 1).unsqueeze(0)\n",
    "\n",
    "x1, y1 = x1[:,:,:11], x1[:,:,11:]\n",
    "x2, y2 = x2[:,:,:11], x2[:,:,11:]\n",
    "\n",
    "print(x1.shape)\n",
    "print(y1.shape)\n",
    "print(x2.shape)\n",
    "print(y2.shape)"
   ]
  },
  {
   "cell_type": "code",
   "execution_count": 30,
   "id": "47c285cb-15a4-470d-a639-bebf82457a7b",
   "metadata": {},
   "outputs": [],
   "source": [
    "model.eval()\n",
    "with torch.no_grad():\n",
    "    p1, p2, h1, h2 = model(x1, y1)\n",
    "    \n",
    "    q1, q2, k1, k2 = model(x2, y2)    "
   ]
  },
  {
   "cell_type": "code",
   "execution_count": 32,
   "id": "4bc7fd9c-3ea4-4b05-83b3-a0c0a6bfad9f",
   "metadata": {},
   "outputs": [
    {
     "name": "stdout",
     "output_type": "stream",
     "text": [
      "tensor([0.8144])\n",
      "tensor([0.8034])\n",
      "tensor([0.9539])\n",
      "tensor([0.9906])\n",
      "tensor([0.9712])\n",
      "tensor([0.8079])\n"
     ]
    }
   ],
   "source": [
    "import torch.nn.functional as F\n",
    "\n",
    "print(F.cosine_similarity(p1, h2))\n",
    "print(F.cosine_similarity(p2, h1))\n",
    "\n",
    "print(F.cosine_similarity(h1, h2))\n",
    "print(F.cosine_similarity(p1, p2))\n",
    "\n",
    "print(F.cosine_similarity(p1, q1))\n",
    "print(F.cosine_similarity(h1, k1))\n"
   ]
  }
 ],
 "metadata": {
  "kernelspec": {
   "display_name": "Python 3 (ipykernel)",
   "language": "python",
   "name": "python3"
  },
  "language_info": {
   "codemirror_mode": {
    "name": "ipython",
    "version": 3
   },
   "file_extension": ".py",
   "mimetype": "text/x-python",
   "name": "python",
   "nbconvert_exporter": "python",
   "pygments_lexer": "ipython3",
   "version": "3.10.13"
  }
 },
 "nbformat": 4,
 "nbformat_minor": 5
}
