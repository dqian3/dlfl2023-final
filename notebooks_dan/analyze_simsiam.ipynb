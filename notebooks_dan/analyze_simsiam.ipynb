{
 "cells": [
  {
   "cell_type": "code",
   "execution_count": 44,
   "id": "ff78c983-df55-4c3b-8129-a78c280bdf77",
   "metadata": {},
   "outputs": [],
   "source": [
    "import torch\n",
    "import matplotlib.pyplot as plt\n",
    "from torchmetrics import JaccardIndex\n"
   ]
  },
  {
   "cell_type": "code",
   "execution_count": 51,
   "id": "a2c4b0df-b580-41c2-ae12-36396b3905df",
   "metadata": {},
   "outputs": [],
   "source": [
    "# Load our own modules\n",
    "import sys\n",
    "\n",
    "sys.path.append(\"./src\")\n",
    "\n",
    "from data import ValidationDataset"
   ]
  },
  {
   "cell_type": "code",
   "execution_count": 52,
   "id": "d7146c6b-fc12-47af-b0a6-795366432d05",
   "metadata": {},
   "outputs": [],
   "source": [
    "dataset = ValidationDataset(\"Dataset_Student\")\n",
    "val_dataloader = torch.utils.data.DataLoader(dataset, batch_size=5, num_workers=2)\n"
   ]
  },
  {
   "cell_type": "code",
   "execution_count": 53,
   "id": "dd139ee7-d721-4298-82af-74081dedfee4",
   "metadata": {},
   "outputs": [],
   "source": [
    "model = torch.load(\"testseg.pkl\", map_location=torch.device('cpu'))"
   ]
  },
  {
   "cell_type": "code",
   "execution_count": 54,
   "id": "c50cf32f-a2d6-497d-8ed3-8f49e32988e2",
   "metadata": {},
   "outputs": [
    {
     "name": "stdout",
     "output_type": "stream",
     "text": [
      "torch.Size([1, 3, 11, 160, 240])\n",
      "torch.Size([1, 3, 11, 160, 240])\n",
      "torch.Size([1, 3, 11, 160, 240])\n",
      "torch.Size([1, 3, 11, 160, 240])\n"
     ]
    }
   ],
   "source": [
    "# Look at SSL trained model\n",
    "import random\n",
    "sim = torch.nn.CosineSimilarity()\n",
    "\n",
    "\n",
    "(x1, y1), (x2, y2) = random.choices(dataset, k=2)\n",
    "\n",
    "x1 = x1.transpose(0, 1).unsqueeze(0)\n",
    "x2 = x2.transpose(0, 1).unsqueeze(0)\n",
    "\n",
    "x1, z1 = x1[:,:,:11], x1[:,:,11:]\n",
    "x2, z2 = x2[:,:,:11], x2[:,:,11:]\n",
    "\n",
    "print(x1.shape)\n",
    "print(z1.shape)\n",
    "print(x2.shape)\n",
    "print(z2.shape)"
   ]
  },
  {
   "cell_type": "code",
   "execution_count": 55,
   "id": "b1b3f9c9-2c49-4f8b-9c8c-3085444903ee",
   "metadata": {},
   "outputs": [],
   "source": [
    "model.eval()\n",
    "with torch.no_grad():\n",
    "\n",
    "    hx1 = model.encoder(x1)\n",
    "    hx2 = model.encoder(x2)\n",
    "    \n",
    "    hz1 = model.encoder(z1)\n",
    "    hz2 = model.encoder(z2)\n",
    "    \n",
    "    hpz1 = model.predictor(hx1)\n",
    "    hpz2 = model.predictor(hx2)"
   ]
  },
  {
   "cell_type": "code",
   "execution_count": 56,
   "id": "bc84af4a-0ed0-4fb3-978d-8a41462976d8",
   "metadata": {},
   "outputs": [
    {
     "name": "stdout",
     "output_type": "stream",
     "text": [
      "torch.Size([1, 1000])\n",
      "torch.Size([1, 1000])\n",
      "tensor([0.9087])\n",
      "tensor([0.9468])\n",
      "tensor([0.9061])\n"
     ]
    }
   ],
   "source": [
    "import torch.nn.functional as F\n",
    "\n",
    "\n",
    "print(hpz1.shape)\n",
    "print(hz1.shape)\n",
    "print(F.cosine_similarity(hx1, hx2))\n",
    "print(F.cosine_similarity(hx1, hz1))\n",
    "\n",
    "print(F.cosine_similarity(hpz1, hz1))\n"
   ]
  },
  {
   "cell_type": "code",
   "execution_count": null,
   "id": "a5fe6d66-2947-453d-8b73-ababec2eda26",
   "metadata": {},
   "outputs": [],
   "source": []
  }
 ],
 "metadata": {
  "kernelspec": {
   "display_name": "Python 3 (ipykernel)",
   "language": "python",
   "name": "python3"
  },
  "language_info": {
   "codemirror_mode": {
    "name": "ipython",
    "version": 3
   },
   "file_extension": ".py",
   "mimetype": "text/x-python",
   "name": "python",
   "nbconvert_exporter": "python",
   "pygments_lexer": "ipython3",
   "version": "3.10.13"
  }
 },
 "nbformat": 4,
 "nbformat_minor": 5
}
