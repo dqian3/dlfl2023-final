{
 "cells": [
  {
   "cell_type": "code",
   "execution_count": 3,
   "id": "f6746468-4b39-4577-8cce-6543cab203d2",
   "metadata": {},
   "outputs": [
    {
     "name": "stderr",
     "output_type": "stream",
     "text": [
      "/home/dqian/miniconda3/envs/NYU-DL/lib/python3.10/site-packages/torchvision/io/image.py:13: UserWarning: Failed to load image Python extension: '/home/dqian/miniconda3/envs/NYU-DL/lib/python3.10/site-packages/torchvision/image.so: undefined symbol: _ZN5torch3jit17parseSchemaOrNameERKNSt7__cxx1112basic_stringIcSt11char_traitsIcESaIcEEE'If you don't plan on using image functionality from `torchvision.io`, you can ignore this warning. Otherwise, there might be something wrong with your environment. Did you have `libjpeg` or `libpng` installed before building `torchvision` from source?\n",
      "  warn(\n"
     ]
    }
   ],
   "source": [
    "import torch\n",
    "import matplotlib.pyplot as plt\n",
    "from torchmetrics import JaccardIndex\n"
   ]
  },
  {
   "cell_type": "code",
   "execution_count": 4,
   "id": "d2c79e7f-6c3f-45a5-bc55-37514cf09faa",
   "metadata": {},
   "outputs": [],
   "source": [
    "# Load our own modules\n",
    "import sys\n",
    "\n",
    "sys.path.append(\"../src\")\n",
    "\n",
    "from data import *"
   ]
  },
  {
   "cell_type": "code",
   "execution_count": 5,
   "id": "cb26fd11-c1ca-4e47-b4a8-c9f6f4015995",
   "metadata": {},
   "outputs": [],
   "source": [
    "# This draws a random frame for some reason... not worth figuring it out imo.\n",
    "def plot_video(frames, normalized=True):\n",
    "    # undo norm and matplot lib wants rgb in last dim\n",
    "    if (normalized):\n",
    "        frames = [unnormalize(f).movedim(0, 2).clamp(0, 1) for f in frames]\n",
    "    \n",
    "    fig = plt.figure()\n",
    "    ax = plt.axes()\n",
    "    def drawframe(i):\n",
    "        plt.axis('off')\n",
    "        ax.imshow(frames[i])\n",
    "        \n",
    "    anim = animation.FuncAnimation(fig, drawframe, frames=len(frames), interval=100)\n",
    "    return HTML(anim.to_html5_video())"
   ]
  },
  {
   "cell_type": "code",
   "execution_count": 6,
   "id": "4152ac11-2795-4802-9592-22a431de9830",
   "metadata": {},
   "outputs": [],
   "source": [
    "dataset = ValidationDataset(\"../Dataset_Student\")\n"
   ]
  },
  {
   "cell_type": "code",
   "execution_count": 7,
   "id": "edb1c4e6-5f09-4fcb-9f38-a2cc813042cc",
   "metadata": {},
   "outputs": [],
   "source": [
    "preds = []\n",
    "labels = []\n",
    "\n",
    "for i in range(1000):\n",
    "    frame, label = dataset[i]\n",
    "    labels.append(torch.tensor(label))\n",
    "    preds.append(torch.zeros(label.shape))\n",
    "\n",
    "preds = torch.stack(preds)\n",
    "labels = torch.stack(labels)"
   ]
  },
  {
   "cell_type": "code",
   "execution_count": null,
   "id": "f5f9103a-1822-49a9-9c7b-d8ccc0716c26",
   "metadata": {},
   "outputs": [],
   "source": []
  },
  {
   "cell_type": "code",
   "execution_count": 8,
   "id": "9b97199b-686d-43c5-a4a7-388c83aa14c8",
   "metadata": {},
   "outputs": [
    {
     "name": "stdout",
     "output_type": "stream",
     "text": [
      "torch.Size([1000, 22, 160, 240]) torch.Size([1000, 22, 160, 240])\n"
     ]
    }
   ],
   "source": [
    "print(preds.shape, labels.shape)\n"
   ]
  },
  {
   "cell_type": "code",
   "execution_count": null,
   "id": "b8c01d36-7b53-4104-980e-8a50e8bd6749",
   "metadata": {},
   "outputs": [],
   "source": [
    "iou = JaccardIndex(task=\"multiclass\", num_classes=49)\n",
    "print(iou(preds, labels))"
   ]
  },
  {
   "cell_type": "code",
   "execution_count": null,
   "id": "f19230a3-fdbf-4413-976b-475cad49a6ee",
   "metadata": {},
   "outputs": [],
   "source": [
    "plt."
   ]
  }
 ],
 "metadata": {
  "kernelspec": {
   "display_name": "Python 3 (ipykernel)",
   "language": "python",
   "name": "python3"
  },
  "language_info": {
   "codemirror_mode": {
    "name": "ipython",
    "version": 3
   },
   "file_extension": ".py",
   "mimetype": "text/x-python",
   "name": "python",
   "nbconvert_exporter": "python",
   "pygments_lexer": "ipython3",
   "version": "3.10.13"
  }
 },
 "nbformat": 4,
 "nbformat_minor": 5
}
